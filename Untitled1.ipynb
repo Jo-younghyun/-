{
  "nbformat": 4,
  "nbformat_minor": 0,
  "metadata": {
    "colab": {
      "name": "Untitled1.ipynb",
      "provenance": [],
      "authorship_tag": "ABX9TyN6Dzh6GwkDPn43oFIEkcif",
      "include_colab_link": true
    },
    "kernelspec": {
      "name": "python3",
      "display_name": "Python 3"
    }
  },
  "cells": [
    {
      "cell_type": "markdown",
      "metadata": {
        "id": "view-in-github",
        "colab_type": "text"
      },
      "source": [
        "<a href=\"https://colab.research.google.com/github/Jo-younghyun/-/blob/master/Untitled1.ipynb\" target=\"_parent\"><img src=\"https://colab.research.google.com/assets/colab-badge.svg\" alt=\"Open In Colab\"/></a>"
      ]
    },
    {
      "cell_type": "markdown",
      "metadata": {
        "id": "4QuyRk0juGC3",
        "colab_type": "text"
      },
      "source": [
        "# **인공지능 4가지 분야의 제품과 서비스**"
      ]
    },
    {
      "cell_type": "markdown",
      "metadata": {
        "id": "22OBxv8nD4Lu",
        "colab_type": "text"
      },
      "source": [
        "\n",
        "\n",
        "---\n",
        "\n"
      ]
    },
    {
      "cell_type": "markdown",
      "metadata": {
        "id": "-yidqsE6EiCM",
        "colab_type": "text"
      },
      "source": [
        "\n",
        "\n",
        "1.   언어기술\n",
        "\n",
        "\n",
        "> WT2 PLUS\n",
        "[녹색경제신문](http://www.greened.kr/news/articleView.html?idxno=202860)\n",
        "![WT2 Plus 인공지능 통역 이어폰은 귀에서 귀로 전달하는 자연스러운 소통을 36개국 언어, 84개 엑센트로 가능하도록 해주는 제품](https://www.greened.kr/news/photo/201907/202860_203106_461.jpg)\n",
        "\n",
        "2.   음성기술\n",
        "\n",
        "> 클로바\n",
        "[BLOTER](http://www.bloter.net/archives/385743)\n",
        "![이미지에서 텍스트를 인식하는 기술 클로바OCR](http://www.bloter.net/wp-content/uploads/2020/05/29155007-B4CA-438C-BE03-2C27FDA7FC31-800x328.png)\n",
        "\n",
        "3.   이미지기술\n",
        "\n",
        "\n",
        "> OrCam MyEye 2.0\n",
        "[BLOTER](http://www.bloter.net/archives/387736)\n",
        "![기기의 카메라가 촬영한 이미지를 분석해 음성으로 알려주는 방식의 안경](http://www.bloter.net/wp-content/uploads/2020/06/3554238800_20200603153430_4754479954-765x459.jpg)\n",
        "\n",
        "4.   자율주행기술\n",
        "\n",
        "\n",
        "> 자율주행 이동우체국차\n",
        "[부산일보](http://www.busan.com/view/busan/view.php?code=2020052906531686717)\n",
        "![5G(세대)와 인공지능(AI) 기술을 활용한 자율주행 이동우체국과 우편물 배달로봇, 집배원 추종로봇](http://www.busan.com/nas/wcms/wcms_data/photos/2020/05/29/2020052907100423217_l.png)\n",
        "\n",
        "\n"
      ]
    },
    {
      "cell_type": "markdown",
      "metadata": {
        "id": "bku7U4tSFP28",
        "colab_type": "text"
      },
      "source": [
        "\n",
        "\n",
        "---\n",
        "\n"
      ]
    },
    {
      "cell_type": "markdown",
      "metadata": {
        "id": "ZjfIf24WFSzU",
        "colab_type": "text"
      },
      "source": [
        ""
      ]
    }
  ]
}